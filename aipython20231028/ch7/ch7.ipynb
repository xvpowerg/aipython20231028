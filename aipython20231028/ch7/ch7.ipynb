{
 "cells": [
  {
   "cell_type": "markdown",
   "id": "b5c01833",
   "metadata": {},
   "source": [
    "## 作業\n",
    "\n",
    "設計錢包總金額為 1000 元，\n",
    "\n",
    "如果購買商品總金額超過 1000 \n",
    "\n",
    "會引發一個金額不足的例外 ValueError"
   ]
  },
  {
   "cell_type": "code",
   "execution_count": 3,
   "id": "4edc70f9",
   "metadata": {},
   "outputs": [
    {
     "name": "stdout",
     "output_type": "stream",
     "text": [
      "消費項目A\n",
      "消費金額500\n",
      "消費項目B\n",
      "消費金額600\n"
     ]
    },
    {
     "ename": "ValueError",
     "evalue": "已經超支了",
     "output_type": "error",
     "traceback": [
      "\u001b[1;31m---------------------------------------------------------------------------\u001b[0m",
      "\u001b[1;31mValueError\u001b[0m                                Traceback (most recent call last)",
      "Cell \u001b[1;32mIn[3], line 8\u001b[0m\n\u001b[0;32m      6\u001b[0m \u001b[38;5;66;03m#     try:\u001b[39;00m\n\u001b[0;32m      7\u001b[0m     \u001b[38;5;28;01mif\u001b[39;00m  \u001b[38;5;28msum\u001b[39m\u001b[38;5;241m+\u001b[39m \u001b[38;5;28mint\u001b[39m(price) \u001b[38;5;241m>\u001b[39m \u001b[38;5;241m1000\u001b[39m:\n\u001b[1;32m----> 8\u001b[0m         \u001b[38;5;28;01mraise\u001b[39;00m \u001b[38;5;167;01mValueError\u001b[39;00m(\u001b[38;5;124m'\u001b[39m\u001b[38;5;124m已經超支了\u001b[39m\u001b[38;5;124m'\u001b[39m)\n\u001b[0;32m      9\u001b[0m     dic1[item] \u001b[38;5;241m=\u001b[39m price            \n\u001b[0;32m     10\u001b[0m     \u001b[38;5;28msum\u001b[39m\u001b[38;5;241m+\u001b[39m\u001b[38;5;241m=\u001b[39m\u001b[38;5;28mint\u001b[39m(price)\n",
      "\u001b[1;31mValueError\u001b[0m: 已經超支了"
     ]
    }
   ],
   "source": [
    "sum=0\n",
    "dic1 = {}\n",
    "while True:\n",
    "    item = input(\"消費項目\")\n",
    "    price = input(\"消費金額\")   \n",
    "    try:\n",
    "        if  sum+ int(price) > 1000:\n",
    "            raise ValueError\n",
    "        dic1[item] = price            \n",
    "        sum+=int(price)   \n",
    "    except ValueError:\n",
    "        print('已經超支了')\n",
    "        print(dic1)\n",
    "        break   "
   ]
  },
  {
   "cell_type": "code",
   "execution_count": 7,
   "id": "ff7b2c77",
   "metadata": {},
   "outputs": [
    {
     "name": "stdout",
     "output_type": "stream",
     "text": [
      "(2,3)\n"
     ]
    }
   ],
   "source": [
    "class Point:\n",
    "    def __init__(self,x,y):\n",
    "        self.x = x\n",
    "        self.y = y\n",
    "    def __str__(self):\n",
    "        return f\"({self.x},{self.y})\"\n",
    "p1 = Point(2,3)\n",
    "print(p1)"
   ]
  },
  {
   "cell_type": "markdown",
   "id": "c05ebf9c",
   "metadata": {},
   "source": [
    "``` python\n",
    "__add__  +\n",
    "\n",
    "__iadd__  +=\n",
    "\n",
    "__sub__  -\n",
    "\n",
    "__isub__  -=\n",
    "\n",
    "__mul__  *\n",
    "\n",
    "__imul__  *=\n",
    "\n",
    "__truediv__   /\n",
    "\n",
    "__itruediv__   /=\n",
    "\n",
    "__floordiv__  //\n",
    "\n",
    "__ifloordiv__  //=\n",
    "\n",
    "__mod__  %\n",
    "\n",
    "__imod__  %=\n",
    "\n",
    "__pow__  **\n",
    "\n",
    "__ipow__  **=\n",
    "```"
   ]
  },
  {
   "cell_type": "code",
   "execution_count": 10,
   "id": "4d32e5fd",
   "metadata": {},
   "outputs": [
    {
     "name": "stdout",
     "output_type": "stream",
     "text": [
      "(1,5)\n"
     ]
    }
   ],
   "source": [
    "class Point:\n",
    "    def __init__(self,x,y):\n",
    "        self.x = x\n",
    "        self.y = y\n",
    "    def __add__(self,other):\n",
    "        x = self.x + other.x\n",
    "        y = self.y + other.y\n",
    "        return Point(x,y)\n",
    "    def __str__(self):\n",
    "        return f\"({self.x},{self.y})\"\n",
    "p1 = Point(2,3)\n",
    "p2 = Point(-1,2)\n",
    "print(p1 + p2)"
   ]
  },
  {
   "cell_type": "code",
   "execution_count": 23,
   "id": "5ac9fc95",
   "metadata": {},
   "outputs": [
    {
     "name": "stdout",
     "output_type": "stream",
     "text": [
      "Ken:75\n",
      "Vivin:86\n",
      "False\n",
      "Iris:65\n",
      "Ken:75\n",
      "Vivin:86\n"
     ]
    }
   ],
   "source": [
    "class Student:\n",
    "    def __init__(self,name,score):\n",
    "        self.name = name\n",
    "        self.score = score\n",
    "    #小於    \n",
    "    def __lt__(self,other):    \n",
    "        return self.score < other.score\n",
    "    #比大於__gt__ 等於__eq__\n",
    "    def __str__(self):\n",
    "        return f\"{self.name}:{self.score}\"\n",
    "st1 = Student(\"Ken\",75)\n",
    "st2 = Student(\"Vivin\",86)\n",
    "st3 = Student(\"Iris\",65)\n",
    "stList = [st1,st2,st3]\n",
    "print(st1)\n",
    "print(st2)\n",
    "print(st1 > st2)\n",
    "stList.sort()\n",
    "for st in stList:\n",
    "    print(st)"
   ]
  },
  {
   "cell_type": "markdown",
   "id": "70131563",
   "metadata": {},
   "source": [
    "## 目錄管理\n",
    "\n",
    "我們可以使用 os 模組的 getcwd() 方法獲取當前工作目錄。\n",
    "\n",
    "此方法以字串形式返回當前工作目錄。 \n",
    "\n",
    "請動手操作，並留意輸出結果"
   ]
  },
  {
   "cell_type": "code",
   "execution_count": 24,
   "id": "c095956a",
   "metadata": {},
   "outputs": [
    {
     "name": "stdout",
     "output_type": "stream",
     "text": [
      "C:\\Users\\xvpow\\aipython20231028\\ch7\n"
     ]
    }
   ],
   "source": [
    "import os\n",
    "print(os.getcwd())"
   ]
  },
  {
   "cell_type": "markdown",
   "id": "11a87642",
   "metadata": {},
   "source": [
    "## 切換目錄(不需要練習)\n"
   ]
  },
  {
   "cell_type": "code",
   "execution_count": 28,
   "id": "55ec81c2",
   "metadata": {},
   "outputs": [
    {
     "name": "stdout",
     "output_type": "stream",
     "text": [
      "C:\\Users\\xvpow\\aipython20231028\\ch7\\test\n"
     ]
    },
    {
     "ename": "FileNotFoundError",
     "evalue": "[WinError 2] 系統找不到指定的檔案。: './test'",
     "output_type": "error",
     "traceback": [
      "\u001b[1;31m---------------------------------------------------------------------------\u001b[0m",
      "\u001b[1;31mFileNotFoundError\u001b[0m                         Traceback (most recent call last)",
      "Cell \u001b[1;32mIn[28], line 3\u001b[0m\n\u001b[0;32m      1\u001b[0m \u001b[38;5;28;01mimport\u001b[39;00m \u001b[38;5;21;01mos\u001b[39;00m\n\u001b[0;32m      2\u001b[0m \u001b[38;5;28mprint\u001b[39m(os\u001b[38;5;241m.\u001b[39mgetcwd())\n\u001b[1;32m----> 3\u001b[0m os\u001b[38;5;241m.\u001b[39mchdir(\u001b[38;5;124m\"\u001b[39m\u001b[38;5;124m./test\u001b[39m\u001b[38;5;124m\"\u001b[39m)\n\u001b[0;32m      4\u001b[0m \u001b[38;5;28mprint\u001b[39m(os\u001b[38;5;241m.\u001b[39mgetcwd())\n\u001b[0;32m      5\u001b[0m os\u001b[38;5;241m.\u001b[39mchdir(\u001b[38;5;124m\"\u001b[39m\u001b[38;5;124m../\u001b[39m\u001b[38;5;124m\"\u001b[39m)\n",
      "\u001b[1;31mFileNotFoundError\u001b[0m: [WinError 2] 系統找不到指定的檔案。: './test'"
     ]
    }
   ],
   "source": [
    "import os\n",
    "print(os.getcwd())\n",
    "os.chdir(\"./test\")\n",
    "print(os.getcwd())\n"
   ]
  },
  {
   "cell_type": "code",
   "execution_count": 31,
   "id": "a27bbfa4",
   "metadata": {},
   "outputs": [
    {
     "name": "stdout",
     "output_type": "stream",
     "text": [
      "C:\\Users\\xvpow\\aipython20231028\\ch7\n",
      "['.ipynb_checkpoints', 'ch7.ipynb', 'data.json', 'data.txt', 'data0.json', 'data1.txt', 'example.csv', 'example1.csv', 'example2.csv', 'json與csv用檔案.zip', 'result-readline.txt', 'score.json', 'score.txt', 'test', 'ttest.csv']\n"
     ]
    }
   ],
   "source": [
    "import os\n",
    "print(os.getcwd())\n",
    "print(os.listdir())#目前工作環境下有什麼內容"
   ]
  },
  {
   "cell_type": "code",
   "execution_count": 33,
   "id": "c4688b3f",
   "metadata": {},
   "outputs": [
    {
     "name": "stdout",
     "output_type": "stream",
     "text": [
      "C:\\Users\\xvpow\\aipython20231028\\ch7\n",
      "目錄: .ipynb_checkpoints\n",
      "檔案: ch7.ipynb\n",
      "檔案: data.json\n",
      "檔案: data.txt\n",
      "檔案: data0.json\n",
      "檔案: data1.txt\n",
      "檔案: example.csv\n",
      "檔案: example1.csv\n",
      "檔案: example2.csv\n",
      "檔案: json與csv用檔案.zip\n",
      "檔案: result-readline.txt\n",
      "檔案: score.json\n",
      "檔案: score.txt\n",
      "目錄: test\n",
      "檔案: ttest.csv\n"
     ]
    }
   ],
   "source": [
    "import os\n",
    "from os.path import isfile,isdir\n",
    "print(os.getcwd())\n",
    "dirList = os.listdir()\n",
    "for f in dirList:\n",
    "    if isfile(f):\n",
    "        print(\"檔案:\",f)\n",
    "    elif isdir(f):\n",
    "        print(\"目錄:\",f)"
   ]
  },
  {
   "cell_type": "code",
   "execution_count": 35,
   "id": "822d7203",
   "metadata": {},
   "outputs": [
    {
     "name": "stdout",
     "output_type": "stream",
     "text": [
      "C:\\Users\\xvpow\\aipython20231028\\ch7\n",
      "root: .\n",
      "dirs: ['.ipynb_checkpoints', 'test']\n",
      "files: ['ch7.ipynb', 'data.json', 'data.txt', 'data0.json', 'data1.txt', 'example.csv', 'example1.csv', 'example2.csv', 'json與csv用檔案.zip', 'result-readline.txt', 'score.json', 'score.txt', 'ttest.csv']\n",
      "root: .\\.ipynb_checkpoints\n",
      "dirs: []\n",
      "files: ['ch7-checkpoint.ipynb']\n",
      "root: .\\test\n",
      "dirs: []\n",
      "files: ['test_1.txt', 'test_2.txt']\n"
     ]
    }
   ],
   "source": [
    "import os\n",
    "from os import walk\n",
    "print(os.getcwd())\n",
    "mypath = \".\" #當前的路徑\n",
    "for root,dirs,files in walk(mypath):\n",
    "    print(\"root:\",root)\n",
    "    print(\"dirs:\",dirs)\n",
    "    print(\"files:\",files)"
   ]
  },
  {
   "cell_type": "code",
   "execution_count": 41,
   "id": "e61d1bba",
   "metadata": {},
   "outputs": [
    {
     "name": "stdout",
     "output_type": "stream",
     "text": [
      "已存在\n"
     ]
    }
   ],
   "source": [
    "import os\n",
    "if  not os.path.exists(\"mydir1\"):\n",
    "    os.mkdir(\"mydir1\")\n",
    "else:\n",
    "    print(\"已存在\")"
   ]
  },
  {
   "cell_type": "markdown",
   "id": "dde0683d",
   "metadata": {},
   "source": [
    "## 檔案存取\n",
    "\n",
    "file object = open(file_name [, access_mode])\n",
    "\n",
    "UTF8 編碼資料還請加入另一個參數才可避免亂碼：encoding=‘utf-8'\n",
    "file object = open(file_name [, access_mode])\n",
    "\n",
    "參數說明\n",
    "\n",
    "file_name：file_name 參數是一個字串資料，代表包含要連結的文件名稱。\n",
    "\n",
    "access_mode：access_mode 確定文件必須打開的模式，包括讀取、寫入、附加等等。稍後會列完整列表。這是可選參數，默認文件訪問模式為讀取(r)。\n",
    "\n",
    "|模式\t|可做操作|若檔案不存在|是否覆蓋|\n",
    "|----|--------|-----------|-------|\n",
    "|r\t|只能讀|報錯\t|-|\n",
    "|r+\t|可讀可寫|報錯|是|\n",
    "|w\t|只能寫|建立|是|\n",
    "|w+ |可讀可寫|建立|是|\n",
    "|a　|只能寫|建立|否，追加寫|\n",
    "|a+\t|可讀可寫|建立|否，追加寫|\n"
   ]
  },
  {
   "cell_type": "code",
   "execution_count": 43,
   "id": "e82b04e1",
   "metadata": {},
   "outputs": [],
   "source": [
    "text = \"\"\"python與中文AAA\n",
    "1. 我們來試試看中文儲存能力。\n",
    "2. 許這個字會有編碼衝突風險。\n",
    "3. 犇這個字必須是utf8編碼才有。\n",
    "\"\"\"\n",
    "print(text,file=open(\"data.txt\",\"w\",encoding=\"utf-8\"))"
   ]
  },
  {
   "cell_type": "code",
   "execution_count": 49,
   "id": "c896fd96",
   "metadata": {},
   "outputs": [],
   "source": [
    "text = \"\"\"python與中文AAA\n",
    "1. 我們來試試看中文儲存能力。\n",
    "2. 許這個字會有編碼衝突風險。\n",
    "3. 犇這個字必須是utf8編碼才有。\n",
    "\"\"\"\n",
    "fileObj = open(\"data2.txt\",\"w\",encoding=\"utf-8\")\n",
    "fileObj.write(text)\n",
    "fileObj.close()"
   ]
  },
  {
   "cell_type": "code",
   "execution_count": 51,
   "id": "b7dc0466",
   "metadata": {},
   "outputs": [
    {
     "name": "stdout",
     "output_type": "stream",
     "text": [
      "請輸入訊息(quit離開)A\n",
      "請輸入訊息(quit離開)B\n",
      "請輸入訊息(quit離開)C\n",
      "請輸入訊息(quit離開)D\n",
      "請輸入訊息(quit離開)E\n",
      "請輸入訊息(quit離開)quit\n"
     ]
    }
   ],
   "source": [
    "dataList = []\n",
    "while True:\n",
    "    msg = input(\"請輸入訊息(quit離開)\")\n",
    "    if msg == \"quit\":\n",
    "        break\n",
    "    dataList.append(msg)\n",
    "file = open(\"msg.txt\",\"w\",encoding=\"utf-8\")\n",
    "msgTxt = \"\\n\".join(dataList)\n",
    "file.write(msgTxt)\n",
    "file.close()"
   ]
  },
  {
   "cell_type": "code",
   "execution_count": 52,
   "id": "8712f0d0",
   "metadata": {},
   "outputs": [
    {
     "name": "stdout",
     "output_type": "stream",
     "text": [
      "python與中文AAA\n",
      "1. 我們來試試看中文儲存能力。\n",
      "2. 許這個字會有編碼衝突風險。\n",
      "3. 犇這個字必須是utf8編碼才有。\n",
      "\n",
      "\n"
     ]
    }
   ],
   "source": [
    "f = open(\"data.txt\",\"r\",encoding=\"utf-8\")\n",
    "content = f.read()\n",
    "print(content)\n",
    "f.close()"
   ]
  },
  {
   "cell_type": "markdown",
   "id": "dc87650b",
   "metadata": {},
   "source": [
    "## CSV\n",
    "+ CSV 格式是資料庫最常用的導入和導出格式。\n",
    "+ 資料均沒有類型，一切都是字串。\n",
    "+ 沒有字體或顏色與儲存格寬度高度的設置。\n",
    "+ Python 語法必須加入 import csv。\n",
    "+ 讀取儲存格資料：\n",
    "  + reader( )：依照每一列的編號 由0開始\n",
    "  + DictReader( )\n",
    "    + 以第一列的值為每一行的名稱，第一列不是資料\n",
    "    + 也可以重新命名，但第一列必須是資料"
   ]
  },
  {
   "cell_type": "markdown",
   "id": "9f15dc84",
   "metadata": {},
   "source": [
    "### Read"
   ]
  },
  {
   "cell_type": "code",
   "execution_count": 54,
   "id": "83618eaa",
   "metadata": {},
   "outputs": [
    {
     "name": "stdout",
     "output_type": "stream",
     "text": [
      " 104/01/03#2,640,781,030#64,138,886,194\n",
      " 104/01/17#3,720,277,205#101,133,309,290\n",
      " 104/01/30#4,540,373,544#143,900,658,474\n",
      " 104/01/31#5,486,734,180#162,361,181,834\n"
     ]
    }
   ],
   "source": [
    "import csv\n",
    "f = open(\"example1.csv\",\"r\")\n",
    "for row in csv.reader(f):\n",
    "    if  float(row[5]) > 100:\n",
    "        print(row[0],row[1],row[2],sep=\"#\")"
   ]
  },
  {
   "cell_type": "code",
   "execution_count": 55,
   "id": "9663818d",
   "metadata": {},
   "outputs": [
    {
     "name": "stdout",
     "output_type": "stream",
     "text": [
      " 104/01/02 2,104,640,545\n",
      " 104/01/03 2,640,781,030\n",
      " 104/01/04 2,983,756,821\n",
      " 104/01/05 3,062,757,248\n",
      " 104/01/06 3,314,147,435\n",
      " 104/01/09 2,610,433,477\n",
      " 104/01/10 3,595,611,551\n",
      " 104/01/11 3,322,390,467\n",
      " 104/01/12 2,969,248,375\n",
      " 104/01/13 3,497,838,901\n",
      " 104/01/16 3,184,795,667\n",
      " 104/01/17 3,720,277,205\n",
      " 104/01/18 4,088,756,925\n",
      " 104/01/30 4,540,373,544\n",
      " 104/01/31 5,486,734,180\n"
     ]
    }
   ],
   "source": [
    "import csv\n",
    "f = open(\"example.csv\",\"r\",encoding=\"utf-8\")\n",
    "for row in csv.DictReader(f):\n",
    "    print(row[\"日期\"],row[\"成交股數\"])"
   ]
  },
  {
   "cell_type": "code",
   "execution_count": 59,
   "id": "b5e73905",
   "metadata": {},
   "outputs": [
    {
     "name": "stdout",
     "output_type": "stream",
     "text": [
      "<class '_csv.reader'>\n",
      "[[' 104/01/02', '2,104,640,545', '50,472,201,894', '497,889', '6,952.21', '-119.87'], [' 104/01/03', '2,640,781,030', '64,138,886,194', '623,192', '7,053.38', '101.17'], [' 104/01/04', '2,983,756,821', '75,845,629,353', '728,417', '7,082.97', '29.59'], [' 104/01/05', '3,062,757,248', '76,850,752,698', '737,780', '7,130.86', '47.89'], [' 104/01/06', '3,314,147,435', '88,101,921,548', '823,810', '7,120.51', '-10.35'], [' 104/01/09', '2,610,433,477', '71,323,370,369', '634,137', '7,093.04', '-27.47'], [' 104/01/10', '3,595,611,551', '97,168,542,017', '869,327', '7,178.87', '85.83'], [' 104/01/11', '3,322,390,467', '88,786,671,892', '802,539', '7,188.21', '9.34'], [' 104/01/12', '2,969,248,375', '78,947,910,460', '731,328', '7,186.58', '-1.63'], [' 104/01/13', '3,497,838,901', '99,286,437,370', '819,762', '7,181.54', '-5.04'], [' 104/01/16', '3,184,795,667', '76,842,611,338', '719,725', '7,103.62', '-77.92'], [' 104/01/17', '3,720,277,205', '101,133,309,290', '899,597', '7,221.08', '117.46'], [' 104/01/18', '4,088,756,925', '113,988,641,382', '1,020,420', '7,233.69', '12.61'], [' 104/01/30', '4,540,373,544', '143,900,658,474', '1,113,727', '7,407.41', '173.72'], [' 104/01/31', '5,486,734,180', '162,361,181,834', '1,283,951', '7,517.08', '109.67']]\n"
     ]
    }
   ],
   "source": [
    "import csv\n",
    "f = open(\"example1.csv\",\"r\")\n",
    "csvData = csv.reader(f)\n",
    "print(type(csvData))\n",
    "csvList = list(csvData)\n",
    "print(csvList)"
   ]
  },
  {
   "attachments": {
    "image.png": {
     "image/png": "[encoded data removed]"
    }
   },
   "cell_type": "markdown",
   "id": "52dba4ed",
   "metadata": {},
   "source": [
    "## Json\n",
    "以 json.dumps( ) 函數從 Python 物件轉入 轉出JSON格式字串。\n",
    "+ 以 json.dump( )函數從 Python 物件轉入 轉出JSON 檔案中。\n",
    "+ json資料於Python處理UTF8碼內容會產生亂碼，建議 dumps 時加入以下的參數才可以正確處理UTF8碼內容\n",
    "\n",
    "![image.png](attachment:image.png)"
   ]
  },
  {
   "cell_type": "code",
   "execution_count": 63,
   "id": "ee0ba3db",
   "metadata": {},
   "outputs": [
    {
     "name": "stdout",
     "output_type": "stream",
     "text": [
      "{'python': '課程', 'gjun': 100, 'python-class': True, 'Line': None}\n",
      "<class 'dict'>\n",
      "{\"python\": \"課程\", \"gjun\": 100, \"python-class\": true, \"Line\": null}\n"
     ]
    }
   ],
   "source": [
    "import json\n",
    "json1 = {'python':'課程',\"gjun\":100,\"python-class\":True,\"Line\":None}\n",
    "print(json1)\n",
    "print(type(json1))\n",
    "jsonStr = json.dumps(json1,ensure_ascii=False)\n",
    "print(jsonStr)"
   ]
  },
  {
   "cell_type": "code",
   "execution_count": 64,
   "id": "262b8b44",
   "metadata": {},
   "outputs": [
    {
     "name": "stdout",
     "output_type": "stream",
     "text": [
      "{'python': '課程', 'gjun': 100, 'python-class': True, 'Line': None}\n",
      "<class 'dict'>\n"
     ]
    }
   ],
   "source": [
    "import json\n",
    "json1 = {'python':'課程',\"gjun\":100,\"python-class\":True,\"Line\":None}\n",
    "print(json1)\n",
    "print(type(json1))\n",
    "\n",
    "with open(\"data0.json\",\"w\",encoding=\"utf-8\") as outfile:\n",
    "     json.dump(json1,outfile,ensure_ascii=False)"
   ]
  },
  {
   "cell_type": "code",
   "execution_count": 70,
   "id": "58d5bf03",
   "metadata": {},
   "outputs": [],
   "source": [
    "import json\n",
    "data = { }\n",
    "data['people'] = [ ]\n",
    "data['people'].append({\n",
    "    'name': 'Scott',\n",
    "    'website': 'stackabuse.com',\n",
    "    'from': 'Nebraska'\n",
    "})\n",
    "data['people'].append({\n",
    "    'name': 'Larry',\n",
    "    'website': 'google.com',\n",
    "    'from': 'Michigan'\n",
    "})\n",
    "##轉為一個data.json的檔案\n",
    "with open(\"data.json\",\"w\",encoding=\"utf-8\") as outfile:\n",
    "    json.dump(data,outfile,ensure_ascii=False,indent=2)"
   ]
  },
  {
   "cell_type": "markdown",
   "id": "b23e5189",
   "metadata": {},
   "source": [
    "### Json 轉為 Python物件\n",
    "+ 以 json.loads( ) 函數從 JSON 字串中取出資料轉入 Python。\n",
    "+ 以 json.load( ) 函數從 JSON 檔案中取出資料轉入 Python。"
   ]
  },
  {
   "cell_type": "code",
   "execution_count": 68,
   "id": "dfb990c1",
   "metadata": {},
   "outputs": [
    {
     "name": "stdout",
     "output_type": "stream",
     "text": [
      "{'python': 'good', 'gjun': 100, 'python-class': True, 'ICQ': None}\n",
      "<class 'dict'>\n",
      "100\n"
     ]
    }
   ],
   "source": [
    "import json\n",
    "json1 = '{\"python\":\"good\",\"gjun\":100,\"python-class\":true,\"ICQ\":null}'\n",
    "json2 = json.loads(json1)\n",
    "print(json2)\n",
    "print(type(json2))\n",
    "print(json2[\"gjun\"])"
   ]
  },
  {
   "cell_type": "code",
   "execution_count": 71,
   "id": "ded43c3b",
   "metadata": {},
   "outputs": [
    {
     "name": "stdout",
     "output_type": "stream",
     "text": [
      "people-[{'name': 'Scott', 'website': 'stackabuse.com', 'from': 'Nebraska'}, {'name': 'Larry', 'website': 'google.com', 'from': 'Michigan'}]\n"
     ]
    }
   ],
   "source": [
    "import json\n",
    "with open(\"data.json\",\"r\",encoding=\"utf-8\") as jsonFile:\n",
    "    data = json.load(jsonFile)\n",
    "    for k in data:\n",
    "        print(f\"{k}-{data[k]}\")"
   ]
  },
  {
   "cell_type": "markdown",
   "id": "b34af723",
   "metadata": {},
   "source": [
    "## 關於檔案關閉動作\n",
    "+ 檔案開啟後須進行 close( ) 方法進行關閉動作。\n",
    "+ 若檔案沒關閉會造成：\n",
    "  + 開啟的文件物件會占用系統資源。\n",
    "  + Python 可以同時間開啟的文件數量有限制 (約 20 份文件)。\n",
    "  + 開啟文件物件的模式若為寫入 (w 或 a) 模式，一般都是暫存於緩衝區，系統閒置或文件關閉前才會進行寫入，若沒有進行 close( ) 動作可能造成文件儲存不完整。"
   ]
  },
  {
   "cell_type": "code",
   "execution_count": 73,
   "id": "92b339b4",
   "metadata": {},
   "outputs": [
    {
     "ename": "PermissionError",
     "evalue": "[WinError 32] 程序無法存取檔案，因為檔案正由另一個程序使用。: 'data0.json'",
     "output_type": "error",
     "traceback": [
      "\u001b[1;31m---------------------------------------------------------------------------\u001b[0m",
      "\u001b[1;31mPermissionError\u001b[0m                           Traceback (most recent call last)",
      "Cell \u001b[1;32mIn[73], line 8\u001b[0m\n\u001b[0;32m      6\u001b[0m t \u001b[38;5;241m=\u001b[39m TestFile()\n\u001b[0;32m      7\u001b[0m t\u001b[38;5;241m.\u001b[39mopenFile(\u001b[38;5;124m\"\u001b[39m\u001b[38;5;124mdata0.json\u001b[39m\u001b[38;5;124m\"\u001b[39m)\n\u001b[1;32m----> 8\u001b[0m os\u001b[38;5;241m.\u001b[39mremove(\u001b[38;5;124m\"\u001b[39m\u001b[38;5;124mdata0.json\u001b[39m\u001b[38;5;124m\"\u001b[39m)\n\u001b[0;32m      9\u001b[0m \u001b[38;5;28mprint\u001b[39m(\u001b[38;5;124m\"\u001b[39m\u001b[38;5;124mSuccess\u001b[39m\u001b[38;5;124m\"\u001b[39m)\n",
      "\u001b[1;31mPermissionError\u001b[0m: [WinError 32] 程序無法存取檔案，因為檔案正由另一個程序使用。: 'data0.json'"
     ]
    }
   ],
   "source": [
    "import os\n",
    "class TestFile:\n",
    "     def openFile(self,filePath):   \n",
    "            self.handle = open(filePath,\"w\")\n",
    "            #self.handle.close()\n",
    "t = TestFile()\n",
    "t.openFile(\"data0.json\")\n",
    "os.remove(\"data0.json\")\n",
    "print(\"Success\");"
   ]
  },
  {
   "cell_type": "markdown",
   "id": "78736873",
   "metadata": {},
   "source": [
    "## With 方式操作檔案\n",
    "+ 多個檔案存取時若前一個檔案產生 IO 例外，將會造成後面無法進行close( ) 動作。\n",
    "+ 以 with 方式操作檔案：\n",
    "  + 檔案存取仍有可能產生 IO 例外。\n",
    "  + 離開 with 區塊時檔案將會自動進行 close( ) 動作，自動關閉檔案。"
   ]
  },
  {
   "cell_type": "code",
   "execution_count": 74,
   "id": "cb3cb79e",
   "metadata": {},
   "outputs": [
    {
     "name": "stdout",
     "output_type": "stream",
     "text": [
      "Success\n"
     ]
    }
   ],
   "source": [
    "import os\n",
    "class TestFile:\n",
    "     def openFile(self,filePath):   \n",
    "            with open(filePath,\"w\") as f:\n",
    "                f.write(\"Hello\")\n",
    "t = TestFile()\n",
    "t.openFile(\"text.txt\")\n",
    "os.remove(\"text.txt\")\n",
    "print(\"Success\")         "
   ]
  },
  {
   "cell_type": "markdown",
   "id": "1238433b",
   "metadata": {},
   "source": [
    "## 壓縮與解壓縮 測試資料"
   ]
  },
  {
   "cell_type": "code",
   "execution_count": 75,
   "id": "a56b7e18",
   "metadata": {},
   "outputs": [
    {
     "name": "stdout",
     "output_type": "stream",
     "text": [
      "建立目錄\n",
      "完成附加檔案\n",
      "完成附加檔案\n",
      "查看目錄內容\n"
     ]
    },
    {
     "data": {
      "text/plain": [
       "['test2.txt', 'test3.txt']"
      ]
     },
     "execution_count": 75,
     "metadata": {},
     "output_type": "execute_result"
    }
   ],
   "source": [
    "import shutil\n",
    "import os\n",
    "try:\n",
    "    os.mkdir('test2')\n",
    "    print('建立目錄')\n",
    "except:\n",
    "    print('建立目錄失敗')\n",
    "\n",
    "with open('./test2/test2.txt', 'a') as file2:\n",
    "    file2.write('Programming is Fun.')\n",
    "    print('完成附加檔案')\n",
    "    \n",
    "with open('./test2/test3.txt', 'a') as file2:\n",
    "    file2.write('Programiz for beginners')\n",
    "    print('完成附加檔案')\n",
    "    \n",
    "print('查看目錄內容')\n",
    "os.listdir('./test2')"
   ]
  },
  {
   "cell_type": "markdown",
   "id": "aa0ea2d1",
   "metadata": {},
   "source": [
    "## 壓縮與解壓縮\n",
    "### 但可以於Python程式內運用，可實現以下功能：\n",
    "#### 建立zip壓縮檔案\n",
    "+ 透過zipfile.ZipFile( )建立物件，再透過物件的write()動作將資料夾壓縮。\n",
    "#### 解壓縮zip壓縮檔案\n",
    "+ 透過zipfile.ZipFile( )建立物件，再透過物件的extractall()動作解壓縮。\n",
    "#### 列出zip壓縮檔案內容\n",
    "+透過zipfile.ZipFile( )建立物件，再透過物件的namelist()動作查看。"
   ]
  },
  {
   "cell_type": "code",
   "execution_count": 78,
   "id": "52ec044e",
   "metadata": {},
   "outputs": [
    {
     "name": "stdout",
     "output_type": "stream",
     "text": [
      "壓縮資料\n",
      "查看壓縮資料\n",
      "['test2/test2.txt', 'test2/test3.txt']\n",
      "解壓縮資料\n"
     ]
    }
   ],
   "source": [
    "import zipfile\n",
    "\n",
    "def create_zip(path):\n",
    "    zf = zipfile.ZipFile(f'{path}.zip', 'w', zipfile.ZIP_DEFLATED)\n",
    "    for root, dirs, files in os.walk(path):\n",
    "        for file_name in files:\n",
    "            zf.write(os.path.join(root, file_name))\n",
    "    \n",
    "def ziplist(file_path):\n",
    "    zf = zipfile.ZipFile(file_path, 'r')\n",
    "    print(zf.namelist())\n",
    "    \n",
    "def extra_zip(file_path):\n",
    "    zf = zipfile.ZipFile(file_path, 'r')\n",
    "    zf.extractall()\n",
    "\n",
    "try:\n",
    "    print('壓縮資料')\n",
    "    create_zip('test2')\n",
    "except:\n",
    "    print('壓縮失敗')\n",
    "    \n",
    "\n",
    "try:\n",
    "    print('查看壓縮資料')\n",
    "    ziplist('test2.zip')\n",
    "except:\n",
    "    print('查看壓縮資料失敗')    \n",
    "    \n",
    "    \n",
    " "
   ]
  },
  {
   "cell_type": "code",
   "execution_count": 79,
   "id": "ae851002",
   "metadata": {},
   "outputs": [
    {
     "name": "stdout",
     "output_type": "stream",
     "text": [
      "刪除目錄\n",
      "解壓縮資料\n"
     ]
    }
   ],
   "source": [
    "import shutil\n",
    "try:\n",
    "    print('刪除目錄')\n",
    "    shutil.rmtree(\"test2\")\n",
    "except:\n",
    "    print('刪除目錄失敗')\n",
    "\n",
    "\n",
    "try:\n",
    "    print('解壓縮資料')\n",
    "    extra_zip('test2.zip')\n",
    "except:\n",
    "    print('解壓縮失敗')   "
   ]
  },
  {
   "cell_type": "code",
   "execution_count": null,
   "id": "dae71166",
   "metadata": {},
   "outputs": [],
   "source": []
  }
 ],
 "metadata": {
  "kernelspec": {
   "display_name": "Python 3 (ipykernel)",
   "language": "python",
   "name": "python3"
  },
  "language_info": {
   "codemirror_mode": {
    "name": "ipython",
    "version": 3
   },
   "file_extension": ".py",
   "mimetype": "text/x-python",
   "name": "python",
   "nbconvert_exporter": "python",
   "pygments_lexer": "ipython3",
   "version": "3.11.4"
  }
 },
 "nbformat": 4,
 "nbformat_minor": 5
}
