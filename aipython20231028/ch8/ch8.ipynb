{
 "cells": [
  {
   "cell_type": "markdown",
   "id": "f67a41d5",
   "metadata": {},
   "source": [
    "## 安裝 爬蟲套件"
   ]
  },
  {
   "cell_type": "code",
   "execution_count": 2,
   "id": "3089d0e7",
   "metadata": {},
   "outputs": [
    {
     "name": "stdout",
     "output_type": "stream",
     "text": [
      "Defaulting to user installation because normal site-packages is not writeable\n",
      "Requirement already satisfied: beautifulsoup4 in c:\\programdata\\anaconda3\\lib\\site-packages (4.12.2)\n",
      "Requirement already satisfied: soupsieve>1.2 in c:\\programdata\\anaconda3\\lib\\site-packages (from beautifulsoup4) (2.4)\n"
     ]
    }
   ],
   "source": [
    "! pip install beautifulsoup4"
   ]
  },
  {
   "cell_type": "code",
   "execution_count": 3,
   "id": "10b5c3cf",
   "metadata": {},
   "outputs": [
    {
     "name": "stdout",
     "output_type": "stream",
     "text": [
      "Defaulting to user installation because normal site-packages is not writeable\n",
      "Requirement already satisfied: html5lib in c:\\users\\xvpow\\appdata\\roaming\\python\\python311\\site-packages (1.1)\n",
      "Requirement already satisfied: six>=1.9 in c:\\programdata\\anaconda3\\lib\\site-packages (from html5lib) (1.16.0)\n",
      "Requirement already satisfied: webencodings in c:\\programdata\\anaconda3\\lib\\site-packages (from html5lib) (0.5.1)\n"
     ]
    }
   ],
   "source": [
    "! pip install html5lib"
   ]
  },
  {
   "cell_type": "code",
   "execution_count": 13,
   "id": "cf51c0e5",
   "metadata": {},
   "outputs": [],
   "source": [
    "import requests\n",
    "from bs4 import BeautifulSoup"
   ]
  },
  {
   "cell_type": "markdown",
   "id": "0f4de204",
   "metadata": {},
   "source": [
    "## BeautifulSoup Base\n",
    "find() 只找第一個符合條件的\n",
    "\n",
    "https://www.crummy.com/software/BeautifulSoup/bs4/doc.zh/#find-all\n",
    "\n",
    "find_all() 找所有符合條件的\n",
    "\n",
    "select_one() 只找一個符合條件的可直接使用css語法\n",
    "\n",
    "select() 找所有符合條件的可使用css語法"
   ]
  },
  {
   "cell_type": "code",
   "execution_count": 27,
   "id": "51c027a1",
   "metadata": {},
   "outputs": [
    {
     "name": "stdout",
     "output_type": "stream",
     "text": [
      "<a class=\"c1\" id=\"a1\">V1</a>\n",
      "<a class=\"c1\" id=\"a1\">V1</a>\n",
      "[<a class=\"c1\" id=\"a1\">V1</a>, <a class=\"c1\" id=\"a2\">V2</a>]\n",
      "<a class=\"c1\" id=\"a1\">V1</a>\n",
      "[<a class=\"c1\" id=\"a1\">V1</a>, <a class=\"c1\" id=\"a2\">V2</a>]\n"
     ]
    }
   ],
   "source": [
    "import requests\n",
    "from bs4 import BeautifulSoup\n",
    "\n",
    "html='''<a id='a1' class=\"c1\">V1</a>\n",
    "<a id='a2' class=\"c1\">V2</a>\n",
    "<a id='a3' class=\"c3\">V3</a>\n",
    "'''\n",
    "soup = BeautifulSoup(html,\"html5lib\")\n",
    "print(soup.find(id=\"a1\"))\n",
    "print(soup.find(class_=\"c1\"))\n",
    "print(soup.find_all(class_=\"c1\"))\n",
    "\n",
    "print(soup.select_one(\"#a1\"))\n",
    "print(soup.select(\".c1\"))"
   ]
  },
  {
   "cell_type": "code",
   "execution_count": 30,
   "id": "7164a3c5",
   "metadata": {},
   "outputs": [
    {
     "name": "stdout",
     "output_type": "stream",
     "text": [
      "Google\n",
      "https://google.com\n",
      "https://google.com Google\n",
      "https://yahoo.com Yahoo\n"
     ]
    }
   ],
   "source": [
    "import requests\n",
    "from bs4 import BeautifulSoup\n",
    "html='''<a id='a1' class=\"c1\" href=\"https://google.com\">Google</a>\n",
    "<a id='a2' class=\"c1\"  href=\"https://yahoo.com\">Yahoo</a>\n",
    "<a id='a3' class=\"c3\" href=\"https://facebook.com\">Facebook</a>\n",
    "'''\n",
    "soup = BeautifulSoup(html,\"html5lib\")\n",
    "print(soup.find(id=\"a1\").getText())\n",
    "print(soup.find(id=\"a1\").get(\"href\"))\n",
    "tmpList = soup.find_all(class_=\"c1\")\n",
    "for tag in tmpList:\n",
    "    print(tag.get(\"href\"),tag.getText())\n"
   ]
  },
  {
   "cell_type": "markdown",
   "id": "fa0863fd",
   "metadata": {},
   "source": [
    "# 使用html檔案練習"
   ]
  },
  {
   "cell_type": "code",
   "execution_count": 31,
   "id": "6c5714b8",
   "metadata": {},
   "outputs": [
    {
     "name": "stdout",
     "output_type": "stream",
     "text": [
      "以下是列印一個h1元素: \n",
      "class與id練習測試h1標籤\n",
      "以下是列印全部h1元素: \n",
      "class與id練習測試h1標籤\n",
      "國家首都資料表\n",
      "h1標籤測試1\n",
      "h1標籤測試2\n",
      "h1標籤測試3\n",
      "h1標籤測試4\n",
      "以下是列印h2元素，只找兩個: \n",
      "class與id練習測試h2標籤\n",
      "程式語言清單\n"
     ]
    }
   ],
   "source": [
    "import bs4\n",
    "htmlFile = open('web1.html',encoding=\"utf8\",errors='ignore')\n",
    "objSoup = bs4.BeautifulSoup(htmlFile, 'html5lib')\n",
    "print(\"以下是列印一個h1元素: \")\n",
    "objTag = objSoup.find('h1')\n",
    "print(objTag.text)\n",
    "print(\"以下是列印全部h1元素: \")\n",
    "objTag = objSoup.find_all('h1')\n",
    "for data in objTag:                       \n",
    "    print(data.text)\n",
    "objTag = objSoup.find_all('h2', limit=2)\n",
    "print(\"以下是列印h2元素，只找兩個: \")\n",
    "for data in objTag:                       \n",
    "    print(data.text)"
   ]
  },
  {
   "cell_type": "markdown",
   "id": "8aee6615",
   "metadata": {},
   "source": [
    "## 查詢 css中的class方法2，請留意查詢結果。 標籤為span且class為class1\n"
   ]
  },
  {
   "cell_type": "code",
   "execution_count": 32,
   "id": "cad56ab6",
   "metadata": {},
   "outputs": [
    {
     "name": "stdout",
     "output_type": "stream",
     "text": [
      "<span class=\"class1\">各種</span>\n",
      "各種\n"
     ]
    }
   ],
   "source": [
    "import bs4\n",
    "htmlFile = open('web1.html',encoding=\"utf8\",errors='ignore')\n",
    "objSoup = bs4.BeautifulSoup(htmlFile, 'html5lib')\n",
    "objTag = objSoup.find_all('span',class_='class1')\n",
    "for data in objTag:                       \n",
    "    print(data)\n",
    "    print(data.text)\n"
   ]
  },
  {
   "cell_type": "code",
   "execution_count": 33,
   "id": "bc4f2f65",
   "metadata": {},
   "outputs": [
    {
     "name": "stdout",
     "output_type": "stream",
     "text": [
      "<div class=\"class1\">故宮博物院</div>\n",
      "故宮博物院\n",
      "<div class=\"class2\">日月潭</div>\n",
      "日月潭\n",
      "<div class=\"class2 class3\">阿里山</div>\n",
      "阿里山\n"
     ]
    }
   ],
   "source": [
    "import bs4\n",
    "htmlFile = open('web1.html',encoding=\"utf8\",errors='ignore')\n",
    "objSoup = bs4.BeautifulSoup(htmlFile, 'html5lib')\n",
    "objTag = objSoup.find_all('div',{'class':{'class1','class2'}})\n",
    "for data in objTag:                       \n",
    "    print(data)\n",
    "    print(data.text)"
   ]
  },
  {
   "cell_type": "markdown",
   "id": "dc454f2a",
   "metadata": {},
   "source": [
    "## 標籤回傳內容\n",
    "\n",
    ".string 會返回標籤最裡面的內容，如果標籤內還有其他子節點(若有子標籤，代表不是單純的字串)，而會輸出 None。\n",
    "\n",
    ".strings 可以獲得多個內容，但需要加上迴圈進行資料查找處理。\n",
    "\n",
    ".stripped_strings 可將輸出的字串中空白內容去除。 \n",
    "\n",
    "repr(）方法可將物件或其他資料轉換為字串進行輸出!"
   ]
  },
  {
   "cell_type": "code",
   "execution_count": 39,
   "id": "d1247c5b",
   "metadata": {},
   "outputs": [
    {
     "name": "stdout",
     "output_type": "stream",
     "text": [
      "----------------------------------------------------------------------\n",
      "<div class=\"class1\">故宮博物院</div>\n",
      "故宮博物院\n",
      "<div class=\"class2\">日月潭</div>\n",
      "日月潭\n",
      "<div class=\"class2 class3\">阿里山</div>\n",
      "阿里山\n"
     ]
    }
   ],
   "source": [
    "import bs4\n",
    "htmlFile = open('web1.html',encoding=\"utf8\",errors='ignore')\n",
    "objSoup = bs4.BeautifulSoup(htmlFile, 'html5lib')\n",
    "\n",
    "# for string in objSoup.strings:\n",
    "#     print(string) \n",
    "\n",
    "# print(\"-\"*70)\n",
    "# for string in objSoup.strings:\n",
    "#     print(repr(string))\n",
    "\n",
    "\n",
    "# for string in objSoup.stripped_strings:\n",
    "#     print(repr(string))    \n",
    "print(\"-\"*70)\n",
    "for data in objTag:                       \n",
    "    print(data)\n",
    "    print(data.string)"
   ]
  },
  {
   "cell_type": "markdown",
   "id": "7edd41ab",
   "metadata": {},
   "source": [
    "## 查找各種層級節點\n",
    "### 子節點查找\n",
    "標籤的 .content 屬性可以將標籤的子節點以 list 的方式輸出。\n",
    "\n",
    ".children 返回的不是一個 list，不過我們可以透過這個屬性找到所有子節點。\n",
    "\n",
    ".contents 和 .children 屬性僅包含標籤的直接子節點，.descendants 屬性可以對所有標籤的子孫節點進行尋找整理。\n",
    "\n",
    "網頁語法的換行(不是換行的標籤)會造成空白的一個節點。"
   ]
  },
  {
   "cell_type": "code",
   "execution_count": 40,
   "id": "079f4741",
   "metadata": {},
   "outputs": [
    {
     "name": "stdout",
     "output_type": "stream",
     "text": [
      "\n",
      "\n",
      "\n",
      "<div class=\"panel\">\n",
      "    <div class=\"panel-heading\">\n",
      "        <h4>Hello</h4>\t\n",
      "    </div>\n",
      "    <div class=\"panel-body\">\n",
      "        <ul class=\"list\" id=\"list-1\">\n",
      "            <li class=\"class1\">Foo</li>\n",
      "            <li class=\"class1\">Bar</li>\n",
      "            <li class=\"class1\">Jay</li>\n",
      "        </ul>\n",
      "        <ul class=\"list list-small\" id=\"list-2\">\n",
      "            <li class=\"class2\">Foo</li>\n",
      "            <li class=\"class2\">Bar</li>\n",
      "        </ul>\n",
      "    </div>\n",
      "</div>\n",
      "\n",
      "\n",
      "\n",
      "<h1>class與id練習測試h1標籤</h1>\n",
      "\n",
      "\n",
      "<h2>class與id練習測試h2標籤</h2>\n",
      "\n",
      "\n",
      "<div class=\"class1\">故宮博物院</div>\n",
      "\n",
      "\n",
      "<div class=\"class2\">日月潭</div>\n",
      "\n",
      "\n",
      "<div class=\"class2 class3\">阿里山</div>\n",
      "\n",
      "\n",
      "<div id=\"id1\">士林夜市</div>\n",
      "\n",
      "\n",
      "<span class=\"class1\">各種</span>\n",
      "span的\n",
      "<span class=\"class3\">運用</span>\n",
      "。\n",
      "\n",
      "<h2>程式語言清單</h2>\n",
      "\n",
      "\n",
      "<ol type=\"I\">\n",
      "   <li>Python</li><li>Java</li><li>C#</li>\n",
      "</ol>\n",
      "\n",
      "\n",
      "<h3>以下為圖片\n",
      "<img src=\"new1.jpg\"/></h3>\n",
      "\n",
      "\n",
      "<table border=\"1\">\n",
      "   <thead><!--建立表頭 -->\n",
      "      <tr><th colspan=\"3\">表格測試</th></tr>\n",
      "      <tr><th>th1</th><th>th2</th><th>th3</th></tr>\n",
      "   </thead>\n",
      "   <tbody><!-- 建立表格本體 -->\n",
      "      <tr><td>tr1td1</td><td></td><td>tr1td3</td></tr>\n",
      "      <tr><td>tr2td1</td><td>tr2td2</td><td> </td></tr>\n",
      "      <tr><td> </td><td>tr3td2</td><td>tr3td3</td></tr>\n",
      "   </tbody>\n",
      "   <tfoot><!-- 建立表尾 -->\n",
      "      <tr><td colspan=\"3\">td_col3</td></tr>\n",
      "   </tfoot>\n",
      "</table>\n",
      "\n",
      "\n",
      "<h1>國家首都資料表</h1>\n",
      "\n",
      "\n",
      "<dl>\n",
      "   <dt>Washington</dt>\n",
      "      <dd>美國首都</dd>\n",
      "   <dt>Tokyo</dt>\n",
      "      <dd>日本首都</dd>\n",
      "   <dt>Paris</dt>\n",
      "      <dd>法國首都</dd>\n",
      "</dl>\n",
      "\n",
      "\n",
      "<div>p之前div1</div>\n",
      "\n",
      "\n",
      "<div>p之前div2</div>\n",
      "\n",
      "\n",
      "<p>p標籤0</p>\n",
      "\n",
      "\n",
      "<p><b>粗體字 p1</b></p>\n",
      "\n",
      "\n",
      "<p>p標籤2</p>\n",
      "\n",
      "\n",
      "<p>p標籤3</p>\n",
      "\n",
      "\n",
      "<h1>h1標籤測試1</h1>\n",
      "\n",
      "\n",
      "<h1>h1標籤測試2</h1>\n",
      "\n",
      "\n",
      "<h1>h1標籤測試3</h1>\n",
      "\n",
      "\n",
      "<h1>h1標籤測試4</h1>\n",
      "\n",
      "\n",
      "<h2>h2標籤測試1</h2>\n",
      "\n",
      "\n",
      "<h2>h2標籤測試2</h2>\n",
      "\n",
      "\n",
      "<h2>h2標籤測試3</h2>\n",
      "\n",
      "\n",
      "<h2>h2標籤測試4</h2>\n",
      "\n",
      "\n",
      "<h3>h3標籤測試1</h3>\n",
      "\n",
      "\n",
      "<h4>h4標籤測試1</h4>\n",
      "\n",
      "\n",
      "\n",
      "\n",
      "----------------------------------------------------------------------\n"
     ]
    }
   ],
   "source": [
    "htmlFile = open('web1.html',encoding=\"utf8\",errors='ignore')\n",
    "objSoup = bs4.BeautifulSoup(htmlFile, 'html5lib')\n",
    "for child in  objSoup.body.children:\n",
    "    print(child)\n",
    "print(\"-\"*70)"
   ]
  },
  {
   "cell_type": "markdown",
   "id": "7c57c43a",
   "metadata": {},
   "source": [
    "## 兄弟節點查找\n",
    "\n",
    "兄弟節點代表與選定的節點處在統一級的節點，如果不存在則傳回 None。\n",
    "\n",
    ".next_sibling 屬性獲取了該節點的下一個兄弟節點。\n",
    "\n",
    ".previous_sibling 屬性獲取了這個節點的上一個兄弟節點。\n",
    "\n",
    "有些網頁的標籤的 .next_sibling 和 .previous_sibling 屬性也可能是空白，因為空白也可以被視作一個節點。\n",
    "\n",
    "全部兄弟節點：\n",
    "\n",
    ".next_siblings\n",
    "\n",
    ".previous_siblings"
   ]
  },
  {
   "cell_type": "code",
   "execution_count": 56,
   "id": "e531152f",
   "metadata": {},
   "outputs": [
    {
     "name": "stdout",
     "output_type": "stream",
     "text": [
      "<p>p標籤0</p>\n",
      "-----------------------------0---\n",
      "\n",
      "\n",
      "-----------------------------2---\n",
      "<p><b>粗體字 p1</b></p>\n",
      "-----------------------------3---\n",
      "<p><b>粗體字 p1</b></p>\n",
      "<p>p標籤2</p>\n",
      "<p>p標籤3</p>\n",
      "<h1>h1標籤測試1</h1>\n",
      "<h1>h1標籤測試2</h1>\n",
      "<h1>h1標籤測試3</h1>\n",
      "<h1>h1標籤測試4</h1>\n",
      "<h2>h2標籤測試1</h2>\n",
      "<h2>h2標籤測試2</h2>\n",
      "<h2>h2標籤測試3</h2>\n",
      "<h2>h2標籤測試4</h2>\n",
      "<h3>h3標籤測試1</h3>\n",
      "<h4>h4標籤測試1</h4>\n",
      "'\\n\\n\\n'\n",
      "-----------------------------4---\n",
      "'粗體字 p1'\n",
      "'p標籤2'\n",
      "'p標籤3'\n",
      "'h1標籤測試1'\n",
      "'h1標籤測試2'\n",
      "'h1標籤測試3'\n",
      "'h1標籤測試4'\n",
      "'h2標籤測試1'\n",
      "'h2標籤測試2'\n",
      "'h2標籤測試3'\n",
      "'h2標籤測試4'\n",
      "'h3標籤測試1'\n",
      "'h4標籤測試1'\n"
     ]
    }
   ],
   "source": [
    "import bs4\n",
    "htmlFile = open('web1.html',encoding=\"utf8\",errors='ignore')\n",
    "objSoup = bs4.BeautifulSoup(htmlFile, 'html5lib')\n",
    "print(objSoup.p)\n",
    "print(\"-----------------------------0---\")\n",
    "print(objSoup.p.next_sibling)#因為有斷行所以是空白節點\n",
    "print(\"-----------------------------2---\")\n",
    "print(objSoup.p.next_sibling.next_sibling)\n",
    "print(\"-----------------------------3---\")\n",
    "for sibling in objSoup.p.next_siblings:\n",
    "    if sibling!='\\n':\n",
    "        print(repr(sibling))\n",
    "print(\"-----------------------------4---\")        \n",
    "for sibling in objSoup.p.next_siblings:\n",
    "    if sibling!='\\n':\n",
    "         for text in sibling.stripped_strings:\n",
    "            print(repr(text))        \n",
    "        "
   ]
  },
  {
   "cell_type": "code",
   "execution_count": 64,
   "id": "6c743afd",
   "metadata": {},
   "outputs": [
    {
     "name": "stdout",
     "output_type": "stream",
     "text": [
      "1\n",
      "Barbie芭比\n",
      "$1,441,809,423\n",
      "\n",
      "2\n",
      "超級瑪利歐兄弟電影版\n",
      "$1,361,427,971\n",
      "\n",
      "3\n",
      "奧本海默\n",
      "$951,386,780\n",
      "\n",
      "4\n",
      "星際異攻隊3\n",
      "$845,555,777\n",
      "\n",
      "5\n",
      "玩命關頭X\n",
      "$704,709,660\n",
      "\n",
      "6\n",
      "蜘蛛人：穿越新宇宙\n",
      "$690,516,673\n",
      "\n",
      "7\n",
      "滿江紅\n",
      "$673,556,758\n",
      "\n",
      "8\n",
      "流浪地球2\n",
      "$604,456,556\n",
      "\n",
      "9\n",
      "小美人魚\n",
      "$569,626,289\n",
      "\n",
      "10\n",
      "不可能的任務：致命清算 第一章\n",
      "$567,535,383\n",
      "\n"
     ]
    }
   ],
   "source": [
    "import requests\n",
    "from bs4 import BeautifulSoup\n",
    "url = \"https://zh.wikipedia.org/zh-tw/2023年电影\"\n",
    "resp = requests.get(url)\n",
    "resp.encoding = \"utf-8\"\n",
    "#print(resp.text)\n",
    "soup = BeautifulSoup(resp.text,\"html5lib\")\n",
    "movieTable = soup.find(\"table\",class_=\"wikitable sortable\")\n",
    "tbody = movieTable.find(\"tbody\")\n",
    "trList = tbody.find_all(\"tr\")\n",
    "for inx in range(1,len(trList)):\n",
    "    print(trList[inx].find(\"th\").text,end=\"\")\n",
    "    print(trList[inx].find(\"a\").text)\n",
    "    print(trList[inx].find_all(\"td\")[2].text)"
   ]
  },
  {
   "cell_type": "markdown",
   "id": "d0ffe69c",
   "metadata": {},
   "source": [
    "## Numpy簡介"
   ]
  },
  {
   "cell_type": "code",
   "execution_count": 66,
   "id": "799caeb9",
   "metadata": {},
   "outputs": [
    {
     "name": "stdout",
     "output_type": "stream",
     "text": [
      "[1, 3, 5, 7, 9, 3, 5, 6, 7, 9]\n",
      "[ 4  8 11 14 18]\n"
     ]
    }
   ],
   "source": [
    "import numpy as np\n",
    "c1 = [1,3,5,7,9]\n",
    "d1 = [3,5,6,7,9]\n",
    "f1 = c1 + d1\n",
    "print(f1)\n",
    "c2 = np.array(c1)\n",
    "d2 = np.array(d1)\n",
    "f2 = c2 + d2\n",
    "print(f2)"
   ]
  },
  {
   "cell_type": "markdown",
   "id": "0d8dad93",
   "metadata": {},
   "source": [
    "+ ndarray.ndim\n",
    "   + 維度的數量。\n",
    "+ ndarray.shape\n",
    "   + 顯示出陣列在每個維度上的整數值。\n",
    "+ ndarray.size\n",
    "   + 陣列內元素的總數。\n",
    "+ ndarray.dtype\n",
    "   + 用來描述陣列中元素類型的對象。"
   ]
  },
  {
   "cell_type": "code",
   "execution_count": 83,
   "id": "6181cc60",
   "metadata": {},
   "outputs": [
    {
     "name": "stdout",
     "output_type": "stream",
     "text": [
      "2\n",
      "(2, 3)\n",
      "2\n",
      "3\n",
      "6\n",
      "int8\n"
     ]
    }
   ],
   "source": [
    "import numpy as np\n",
    "i = [[1,2,3],\n",
    "     [1,2,3]]\n",
    "a = np.array(i,dtype=np.int8)\n",
    "print(a.ndim)\n",
    "print(a.shape)\n",
    "print(a.shape[0])\n",
    "print(a.shape[1])\n",
    "print(a.size)\n",
    "print(a.dtype)"
   ]
  },
  {
   "cell_type": "code",
   "execution_count": 93,
   "id": "aee1b3a5",
   "metadata": {},
   "outputs": [
    {
     "name": "stdout",
     "output_type": "stream",
     "text": [
      "[0 1 2 3]\n",
      "<class 'numpy.ndarray'>\n",
      "[6 6 6 6]\n",
      "[0 1 4 9]\n",
      "[False  True  True False  True]\n",
      "[-1  3  0]\n",
      "[5 1 1 9 1]\n"
     ]
    }
   ],
   "source": [
    "import numpy as np\n",
    "a = np.array([6,7,8,9])\n",
    "b = np.arange(4)\n",
    "print(b)\n",
    "print(type(b))\n",
    "c = a - b\n",
    "print(c)\n",
    "d = b ** 2\n",
    "print(d)\n",
    "f = np.array([5,-1,3,9,0])\n",
    "print(f<=3)\n",
    "print(f[f<=3] )\n",
    "f[f<=3] = 1\n",
    "print(f)"
   ]
  },
  {
   "cell_type": "markdown",
   "id": "d5047c1a",
   "metadata": {},
   "source": [
    "## 陣列初始化與重新規劃\n",
    "+ 針對初始化這部分提供了多種方式：\n",
    "+ 不做初始化\n",
    "   + 例如：np.empty((2,4))\n",
    "+ 全部規劃為 0\n",
    "   + 例如：np.zeros((3,4))\n",
    "+　全部規劃為 1\n",
    "  + np.ones((5,2))\n",
    "+ 全部規劃／填滿為某數，例如 6\n",
    "   + 例如： np.full((3,3),6)\n",
    "+ 建立對角矩陣，對角皆為 1，其他為 0\n",
    "   + 例如： np.eye(3)\n",
    "+ 建立對角矩陣，對角為 1,2,3,4，其他為 0\n",
    "   + 例如： np.diag([1,2,3,4])\n",
    "+ reshape((x,y)) 這個指令就可以將現有的陣列  重新規劃為 x 乘以 y 的陣列。 \n",
    "+ np.arange(起始值, 結束值, 固定間隔)：也是產生一維陣列，和 np.array( ) 的差別在於 arange 擁有較大的彈性，而且元素數值是自動化產生。\n",
    "+ np.linspace(起始值, 結束值, 起始與結束的區間內要產生幾個元素 )：只要給定陣列的區間(起始值、結束值)，就可以要求在這個區間內產生幾個元素。\n",
    "+ arange(a,b,c)\n",
    "   + 不包含 b 由 a 開始 以固定間隔 c 來取值\n",
    "+ linspace(a,b,c,)\n",
    "   + 包含 b 由 a 開始 切割成 c 個資料\n",
    "+ linspace(a,b,c,endpoint=False)\n",
    "   + 不包含 b 由 a 開始 切割成 c 個資料"
   ]
  },
  {
   "cell_type": "code",
   "execution_count": 99,
   "id": "d0b59249",
   "metadata": {},
   "outputs": [
    {
     "name": "stdout",
     "output_type": "stream",
     "text": [
      "[[1.01633934e-311 3.16202013e-322 0.00000000e+000 0.00000000e+000]\n",
      " [1.01431399e-311 3.63822111e+175 6.70964262e+170 7.24923947e+169]\n",
      " [8.00378332e+169 2.64530589e+180 4.43201525e+175 2.23016117e+160]]\n",
      "==========================\n",
      "[[0. 0. 0. 0.]\n",
      " [0. 0. 0. 0.]\n",
      " [0. 0. 0. 0.]]\n"
     ]
    }
   ],
   "source": [
    "import numpy as np\n",
    "x = np.empty((3,4))\n",
    "print(x)\n",
    "print(\"==========================\")\n",
    "x = np.zeros((3,4))\n",
    "print(x)"
   ]
  },
  {
   "cell_type": "code",
   "execution_count": 105,
   "id": "d8627343",
   "metadata": {},
   "outputs": [
    {
     "name": "stdout",
     "output_type": "stream",
     "text": [
      "[[1. 1. 1. 1.]\n",
      " [1. 1. 1. 1.]]\n",
      "==================================================\n",
      "[[6 6 6 6]\n",
      " [6 6 6 6]]\n"
     ]
    }
   ],
   "source": [
    "import numpy as np\n",
    "x = np.ones((2,4))\n",
    "print(x)\n",
    "print(\"=====\"*10)\n",
    "x = np.full((2,4),6)\n",
    "print(x)"
   ]
  },
  {
   "cell_type": "code",
   "execution_count": 107,
   "id": "f5bc2e64",
   "metadata": {},
   "outputs": [
    {
     "name": "stdout",
     "output_type": "stream",
     "text": [
      "[[1. 0. 0.]\n",
      " [0. 1. 0.]\n",
      " [0. 0. 1.]]\n",
      "[[1 0 0 0]\n",
      " [0 2 0 0]\n",
      " [0 0 3 0]\n",
      " [0 0 0 4]]\n"
     ]
    }
   ],
   "source": [
    "import numpy as np\n",
    "x = np.eye(3)\n",
    "print(x)\n",
    "x = np.diag([1,2,3,4])\n",
    "print(x)"
   ]
  },
  {
   "cell_type": "markdown",
   "id": "4360dd6e",
   "metadata": {},
   "source": [
    "### linspace arange"
   ]
  },
  {
   "cell_type": "code",
   "execution_count": 122,
   "id": "0d957cae",
   "metadata": {},
   "outputs": [
    {
     "name": "stdout",
     "output_type": "stream",
     "text": [
      "[ 1.   2.8  4.6  6.4  8.2 10. ]\n",
      "================\n",
      "[[ 1.   2.8]\n",
      " [ 4.6  6.4]\n",
      " [ 8.2 10. ]]\n",
      "================\n",
      "[1.  2.5 4.  5.5 7.  8.5]\n",
      "=======\n",
      "[0 1 2 3 4 5 6 7]\n",
      "[[0 1]\n",
      " [2 3]\n",
      " [4 5]\n",
      " [6 7]]\n"
     ]
    }
   ],
   "source": [
    "import numpy as np\n",
    "x = np.linspace(1,10,6)\n",
    "print(x)\n",
    "print(\"================\")\n",
    "x = np.linspace(1,10,6).reshape((3,2))\n",
    "print(x)\n",
    "print(\"================\")\n",
    "x = np.linspace(1,10,6,endpoint=False)#不包含10\n",
    "print(x)\n",
    "print(\"=======\")\n",
    "x = np.arange(8)\n",
    "print(x)\n",
    "x = np.arange(8).reshape((4,2))\n",
    "print(x)"
   ]
  },
  {
   "cell_type": "code",
   "execution_count": 123,
   "id": "d4ea81bd",
   "metadata": {},
   "outputs": [
    {
     "name": "stdout",
     "output_type": "stream",
     "text": [
      "r1=> [25.  25.5 26.  26.5 27.  27.5 28.  28.5 29.  29.5]\n"
     ]
    }
   ],
   "source": [
    "import numpy as np\n",
    "r1 = np.arange(25, 30, .5)\n",
    "print(\"r1=>\",r1)"
   ]
  },
  {
   "cell_type": "code",
   "execution_count": 124,
   "id": "3f97b942",
   "metadata": {},
   "outputs": [
    {
     "name": "stdout",
     "output_type": "stream",
     "text": [
      "r1=> [3.   3.25 3.5  3.75 4.   4.25 4.5  4.75 5.  ]\n"
     ]
    }
   ],
   "source": [
    "import numpy as np\n",
    "lin = np.linspace(3, 5, 9)\n",
    "print(\"r1=>\",lin)"
   ]
  },
  {
   "cell_type": "markdown",
   "id": "853e05c7",
   "metadata": {},
   "source": [
    "## 陣列指定位置取值\n",
    "+ 間隔選取 [::c]\n",
    "  + 以 1 維陣列來說明 x[a:b:c]\n",
    "  + a：選取資料的起始索引\n",
    "  + b：選取資料的結束索引 +1\n",
    "  + c：選取資料間隔，以索引值可以被此值整除的元素，不指定表示 1\n",
    "+ 倒序 [::-1]\n",
    "  + 只是單純的把順序反過來"
   ]
  },
  {
   "cell_type": "markdown",
   "id": "a2abba54",
   "metadata": {},
   "source": [
    "## 陣列指定位置-給予一個整數\n",
    "+ 關於指定位置  [row,column]\n",
    "+ 假設給予一個整數為 N\n",
    " + 如果是給固定的 N，那就代表 row 或 column 等於 N。\n",
    " + 如果是 N：，那就代表 row 或 column 大於等於 N 的區域。\n",
    " + 如果是：N，那就代表 row 或 column 小於 N 的區域。 \n",
    " + 如果是：，那就代表 row 或 column 是任意欄位。"
   ]
  },
  {
   "cell_type": "code",
   "execution_count": 133,
   "id": "db3dff07",
   "metadata": {},
   "outputs": [
    {
     "name": "stdout",
     "output_type": "stream",
     "text": [
      "[[1 2 3]\n",
      " [4 5 6]\n",
      " [7 8 9]]\n",
      "[1 2 3]\n",
      "9\n",
      "6\n"
     ]
    }
   ],
   "source": [
    "import numpy as np\n",
    "a = np.arange(1,10).reshape((3,3))\n",
    "print(a)\n",
    "print(a[0])\n",
    "print(a[2][2])\n",
    "print(a[1,2])"
   ]
  },
  {
   "cell_type": "code",
   "execution_count": 148,
   "id": "9a66eda3",
   "metadata": {},
   "outputs": [
    {
     "name": "stdout",
     "output_type": "stream",
     "text": [
      "[[1 2 3]\n",
      " [4 5 6]\n",
      " [7 8 9]]\n",
      "[5 6]\n",
      "==============================\n",
      "[2 5 8]\n",
      "[[2]\n",
      " [5]\n",
      " [8]]\n",
      "==============================\n",
      "[[ 1  2  3]\n",
      " [ 4  5 75]\n",
      " [ 7  8  9]]\n",
      "==============================\n"
     ]
    }
   ],
   "source": [
    "import numpy as np\n",
    "a = np.arange(1,10).reshape((3,3))\n",
    "print(a)\n",
    "print(a[1,1:3])\n",
    "print(\"===\"*10)\n",
    "print(a[:,1])\n",
    "print(a[:,1].reshape(3,1))\n",
    "print(\"===\"*10)\n",
    "a[1,2] = 75\n",
    "print(a)\n",
    "print(\"===\"*10)"
   ]
  },
  {
   "cell_type": "code",
   "execution_count": 153,
   "id": "6ae8dab7",
   "metadata": {},
   "outputs": [
    {
     "name": "stdout",
     "output_type": "stream",
     "text": [
      "[[ 0  1  2  3  4  5]\n",
      " [ 6  7  8  9 10 11]\n",
      " [12 13 14 15 16 17]\n",
      " [18 19 20 21 22 23]\n",
      " [24 25 26 27 28 29]\n",
      " [30 31 32 33 34 35]]\n",
      "---1--\n",
      "[3 4]\n",
      "---2--\n",
      "[[28 29]\n",
      " [34 35]]\n",
      "---3--\n",
      "[[ 0  1  2]\n",
      " [ 6  7  8]\n",
      " [12 13 14]]\n",
      "---4--\n",
      "[ 2  8 14 20 26 32]\n"
     ]
    }
   ],
   "source": [
    "import numpy as np\n",
    "a=np.arange(0,36).reshape((6,6))\n",
    "print(a)\n",
    "print(\"---1--\")\n",
    "print(a[0,3:5])\n",
    "print(\"---2--\")\n",
    "print(a[4:,4:])\n",
    "print(\"---3--\")\n",
    "print(a[:3,:3])\n",
    "print(\"---4--\")\n",
    "print(a[:,2])"
   ]
  },
  {
   "cell_type": "markdown",
   "id": "03a55c96",
   "metadata": {},
   "source": [
    "## 重設新陣列\n",
    "+ resize 這個動作會依據原本的陣列再設定指定大小的新陣列。 \n",
    "+ resize 動作的參數如下：\n",
    "+ numpy.resize(arr1，shape1)\n",
    "  + arr1：原本的陣列\n",
    "  + shape1：新規劃的大小\n",
    "+ 如果規劃的新陣列比較大，將會重新複製原有陣列的資料，填滿新的儲存格。\n",
    "+ resize 這個動作***建立新的陣列***，而 reshape 則是依據原有的重新規劃，仍會受到原有陣列影響。\n",
    "+ transpose()轉置"
   ]
  },
  {
   "cell_type": "code",
   "execution_count": 154,
   "id": "f2bdba4f",
   "metadata": {},
   "outputs": [
    {
     "name": "stdout",
     "output_type": "stream",
     "text": [
      "(2, 3)\n",
      "\n",
      "[[1 2]\n",
      " [3 4]\n",
      " [5 6]]\n",
      "(3, 2)\n",
      "[[  1 100]\n",
      " [  3   4]\n",
      " [  5   6]]\n",
      "(3, 2)\n",
      "(2, 3)\n"
     ]
    }
   ],
   "source": [
    "import numpy as np\n",
    "a = np.array([[1,2,3],\n",
    "              [4,5,6]])\n",
    "print(a.shape)\n",
    "print()\n",
    "b = a.reshape(3,2)\n",
    "print(b)\n",
    "print(b.shape)\n",
    "a[0,1] = 100\n",
    "print(b) # 會改變\n",
    "print(b.shape)\n",
    "print(a.shape)"
   ]
  },
  {
   "cell_type": "code",
   "execution_count": null,
   "id": "cdf02725",
   "metadata": {},
   "outputs": [],
   "source": []
  }
 ],
 "metadata": {
  "kernelspec": {
   "display_name": "Python 3 (ipykernel)",
   "language": "python",
   "name": "python3"
  },
  "language_info": {
   "codemirror_mode": {
    "name": "ipython",
    "version": 3
   },
   "file_extension": ".py",
   "mimetype": "text/x-python",
   "name": "python",
   "nbconvert_exporter": "python",
   "pygments_lexer": "ipython3",
   "version": "3.11.4"
  }
 },
 "nbformat": 4,
 "nbformat_minor": 5
}
