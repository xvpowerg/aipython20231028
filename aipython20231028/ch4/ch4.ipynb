{
 "cells": [
  {
   "cell_type": "markdown",
   "id": "46f9092b",
   "metadata": {},
   "source": [
    "# 文字接龍"
   ]
  },
  {
   "cell_type": "code",
   "execution_count": 4,
   "id": "bf51ba1a",
   "metadata": {},
   "outputs": [
    {
     "name": "stdout",
     "output_type": "stream",
     "text": [
      "請輸入一個字串Python\n",
      "請輸入-n-開始的字串:now\n",
      "上一個字串是:Python-now\n",
      "請輸入-w-開始的字串:woh\n",
      "上一個字串是:Python-now-woh\n",
      "請輸入-h-開始的字串:q\n",
      "上一個字串是:Python-now-woh\n",
      "請輸入-h-開始的字串:q\n",
      "上一個字串是:Python-now-woh\n",
      "請輸入-h-開始的字串:q\n",
      "上一個字串是:Python-now-woh\n",
      "請輸入-h-開始的字串:q\n",
      "上一個字串是:Python-now-woh\n",
      "請輸入-h-開始的字串:q\n",
      "上一個字串是:Python-now-woh\n"
     ]
    }
   ],
   "source": [
    "count = 0\n",
    "txt = input(\"請輸入一個字串\")\n",
    "msg = txt\n",
    "while count < 5:\n",
    "    tmpTxt = input(f\"請輸入-{txt[-1]}-開始的字串:\")  \n",
    "    if (tmpTxt[0] == txt[-1]):\n",
    "        txt = tmpTxt\n",
    "        msg+=\"-\"+txt        \n",
    "    else:        \n",
    "        count+=1\n",
    "    print(f\"上一個字串是:{msg}\")   "
   ]
  },
  {
   "cell_type": "code",
   "execution_count": 2,
   "id": "f007a20e",
   "metadata": {},
   "outputs": [
    {
     "name": "stdout",
     "output_type": "stream",
     "text": [
      "請輸入一個字串python\n",
      "請輸入-n-開始的字串:now\n",
      "上一個字串是:python-now\n",
      "請輸入-w-開始的字串:who\n",
      "上一個字串是:python-now-who\n",
      "請輸入-o-開始的字串:out\n",
      "上一個字串是:python-now-who-out\n",
      "請輸入-t-開始的字串:q\n",
      "上一個字串是:python-now-who-out\n",
      "請輸入-t-開始的字串:q\n",
      "上一個字串是:python-now-who-out\n",
      "請輸入-t-開始的字串:q\n",
      "上一個字串是:python-now-who-out\n",
      "請輸入-t-開始的字串:q\n",
      "上一個字串是:python-now-who-out\n",
      "請輸入-t-開始的字串:q\n",
      "上一個字串是:python-now-who-out\n"
     ]
    }
   ],
   "source": [
    "count = 0\n",
    "txt = input(\"請輸入一個字串\")\n",
    "strList = []\n",
    "strList.append(txt)\n",
    "msg = txt\n",
    "while count < 5:\n",
    "    tmpTxt = input(f\"請輸入-{txt[-1]}-開始的字串:\")  \n",
    "    if (tmpTxt[0] == txt[-1]):\n",
    "        txt = tmpTxt\n",
    "        strList.append(tmpTxt)\n",
    "        msg = \"-\".join(strList) \n",
    "    else:       \n",
    "        count+=1\n",
    "    print(f\"上一個字串是:{msg}\")  "
   ]
  },
  {
   "cell_type": "markdown",
   "id": "25452dab",
   "metadata": {},
   "source": [
    "## pop\n",
    "\n",
    "如果 pop( ) 內沒有參數，則移除最後一筆資料。\n",
    "\n",
    "pop() 內若有參數，則移除指定位置的資料。"
   ]
  },
  {
   "cell_type": "code",
   "execution_count": 13,
   "id": "5b25fd44",
   "metadata": {},
   "outputs": [
    {
     "name": "stdout",
     "output_type": "stream",
     "text": [
      "C\n",
      "B\n",
      "A\n",
      "0\n"
     ]
    }
   ],
   "source": [
    "list2 = []\n",
    "list2.append(\"A\")\n",
    "list2.append(\"B\")\n",
    "list2.append(\"C\")\n",
    "\n",
    "print(list2.pop())#預設是最後一筆\n",
    "print(list2.pop())\n",
    "print(list2.pop())\n",
    "print(len(list2))"
   ]
  },
  {
   "cell_type": "code",
   "execution_count": 19,
   "id": "334570f6",
   "metadata": {},
   "outputs": [
    {
     "name": "stdout",
     "output_type": "stream",
     "text": [
      "A\n",
      "B\n",
      "D\n",
      "['C', 'E']\n"
     ]
    }
   ],
   "source": [
    "list3 = [\"A\",\"B\",\"C\",\"D\",\"E\"]\n",
    "print(list3.pop(0))\n",
    "print(list3.pop(0))\n",
    "print(list3.pop(1))\n",
    "print(list3)"
   ]
  },
  {
   "cell_type": "markdown",
   "id": "d1fd5b25",
   "metadata": {},
   "source": [
    "### Del\n",
    "+ list 可透過 del 方式移除指定位置資料。\n",
    "+ del list[ ] 必須指定範圍：\n",
    "  + del list[n] 代表移除第 n 位索引值資料。\n",
    "  + del list[:m] 代表移除第 m 位索引值之前 ( 不包含 m ) 資料。\n",
    "  + del list[n:m] 代表移除第 n 到 m 位索引值之前 ( 不包含 m ) 資料。"
   ]
  },
  {
   "cell_type": "code",
   "execution_count": 21,
   "id": "13f6e71c",
   "metadata": {},
   "outputs": [
    {
     "name": "stdout",
     "output_type": "stream",
     "text": [
      "['A', 'B', 'C', 'D', 'E']\n",
      "['A', 'B', 'D', 'E']\n",
      "['A', 'E']\n"
     ]
    }
   ],
   "source": [
    "list3 = [\"A\",\"B\",\"C\",\"D\",\"E\"]\n",
    "print(list3)\n",
    "del list3[2]\n",
    "print(list3)\n",
    "del list3[1:3]\n",
    "print(list3)"
   ]
  },
  {
   "cell_type": "markdown",
   "id": "42fa51dd",
   "metadata": {},
   "source": [
    "## List生成器"
   ]
  },
  {
   "cell_type": "code",
   "execution_count": 22,
   "id": "92c80b58",
   "metadata": {},
   "outputs": [
    {
     "name": "stdout",
     "output_type": "stream",
     "text": [
      "[1, 2, 3, 4, 5, 6, 7, 8, 9, 10]\n"
     ]
    }
   ],
   "source": [
    "list4 =[]\n",
    "for i in range(1,11):\n",
    "    list4.append(i)\n",
    "print(list4)    "
   ]
  },
  {
   "cell_type": "code",
   "execution_count": 27,
   "id": "27472580",
   "metadata": {},
   "outputs": [
    {
     "name": "stdout",
     "output_type": "stream",
     "text": [
      "[0, 0, 0, 0, 0, 0, 0, 0, 0, 0]\n"
     ]
    }
   ],
   "source": [
    "list5 = [0 for i in range(1,11)]\n",
    "print(list5)"
   ]
  },
  {
   "cell_type": "code",
   "execution_count": 31,
   "id": "97991ede",
   "metadata": {},
   "outputs": [
    {
     "name": "stdout",
     "output_type": "stream",
     "text": [
      "[2, 4, 6, 8, 10, 12, 14, 16, 18, 20]\n"
     ]
    }
   ],
   "source": [
    "list6 = [i for i in range(1,21) if i % 2 == 0]\n",
    "print(list6)"
   ]
  },
  {
   "cell_type": "code",
   "execution_count": 64,
   "id": "f976f3b2",
   "metadata": {},
   "outputs": [
    {
     "name": "stdout",
     "output_type": "stream",
     "text": [
      "['x', 1, 'y', 2, 'z', 3, [8, 3], {'A': 123, 'C': 456}]\n",
      "8\n"
     ]
    }
   ],
   "source": [
    "list1 = ['x',1,'y',2,'z',3,[8,3],{\"A\":123,\"C\":456}]\n",
    "print(list1)\n",
    "print(len(list1))"
   ]
  },
  {
   "cell_type": "code",
   "execution_count": 65,
   "id": "eb6399fc",
   "metadata": {},
   "outputs": [
    {
     "name": "stdout",
     "output_type": "stream",
     "text": [
      "str: x\n",
      "int: 1\n",
      "str: y\n",
      "int: 2\n",
      "str: z\n",
      "int: 3\n",
      "[1, 2, 3]\n",
      "['x', 'y', 'z']\n"
     ]
    }
   ],
   "source": [
    "listInt = []\n",
    "listStr = []\n",
    "for v in list1:\n",
    "    if isinstance(v,int):\n",
    "        print(\"int:\",v)\n",
    "        listInt.append(v)\n",
    "    elif isinstance(v,str):\n",
    "        print(\"str:\",v)\n",
    "        listStr.append(v)\n",
    "print(listInt)\n",
    "print(listStr)"
   ]
  },
  {
   "cell_type": "code",
   "execution_count": 69,
   "id": "aa3a79dd",
   "metadata": {},
   "outputs": [
    {
     "name": "stdout",
     "output_type": "stream",
     "text": [
      "[[1, 2, 3], [4, 5, 6]]\n",
      "123\n",
      "456\n"
     ]
    }
   ],
   "source": [
    "list2x3 = [[1,2,3],\n",
    "         [4,5,6]]\n",
    "#row 2\n",
    "#column 3\n",
    "print(list2x3)\n",
    "\n",
    "for row in list2x3:\n",
    "    #print(type(row),row)#軸 axis 0\n",
    "    for col in row:\n",
    "        print(col,end = \"\")#軸 axis 0\n",
    "    print()    "
   ]
  },
  {
   "cell_type": "code",
   "execution_count": 70,
   "id": "313d6070",
   "metadata": {},
   "outputs": [
    {
     "name": "stdout",
     "output_type": "stream",
     "text": [
      "[[1, 2, 3], [4, 5, 6]]\n"
     ]
    }
   ],
   "source": [
    "list2x3 = []\n",
    "list1 = [1,2,3]\n",
    "list2 = [4,5,6]\n",
    "list2x3.append(list1)\n",
    "list2x3.append(list2)\n",
    "print(list2x3)"
   ]
  },
  {
   "cell_type": "code",
   "execution_count": 80,
   "id": "a67320ac",
   "metadata": {},
   "outputs": [
    {
     "name": "stdout",
     "output_type": "stream",
     "text": [
      "[[0, 0], [0, 0], [0, 0]]\n"
     ]
    }
   ],
   "source": [
    "list3x2 = [[0 for k in range(2)] for i in range(3)]\n",
    "print(list3x2)"
   ]
  },
  {
   "cell_type": "markdown",
   "id": "92c2603f",
   "metadata": {},
   "source": [
    "## 輸出"
   ]
  },
  {
   "cell_type": "code",
   "execution_count": 87,
   "id": "7b478c1d",
   "metadata": {},
   "outputs": [
    {
     "name": "stdout",
     "output_type": "stream",
     "text": [
      "姓名:Ken 年齡:10\n"
     ]
    }
   ],
   "source": [
    "'''\n",
    "%s表示填入字串\n",
    "%d表示填入整數\n",
    "%f表示填入浮點數\n",
    "'''\n",
    "age = 10\n",
    "name = \"Ken\"\n",
    "msg = \"姓名:%s 年齡:%d\"%(name,age)\n",
    "print(msg)"
   ]
  },
  {
   "cell_type": "markdown",
   "id": "61077812",
   "metadata": {},
   "source": [
    "## Dictionary\n",
    "\n",
    "資料結構是由 key:value 所組成。\n",
    "\n",
    "key 不能夠重複，否則會被後面的結果蓋過去。\n",
    "\n",
    "可輸入 key 找尋您要找出來的值。\n",
    "\n",
    "如果輸入的 key 不存在，那就會出現錯誤訊息。\n",
    "\n",
    "key 只能是 字串 數字 tuple"
   ]
  },
  {
   "cell_type": "code",
   "execution_count": 92,
   "id": "1e5f1697",
   "metadata": {},
   "outputs": [
    {
     "name": "stdout",
     "output_type": "stream",
     "text": [
      "{'a': 100, 'b': 200, 'c': 300}\n",
      "100\n",
      "200\n"
     ]
    },
    {
     "ename": "KeyError",
     "evalue": "'x'",
     "output_type": "error",
     "traceback": [
      "\u001b[1;31m---------------------------------------------------------------------------\u001b[0m",
      "\u001b[1;31mKeyError\u001b[0m                                  Traceback (most recent call last)",
      "Cell \u001b[1;32mIn[92], line 6\u001b[0m\n\u001b[0;32m      3\u001b[0m \u001b[38;5;28mprint\u001b[39m(dict1[\u001b[38;5;124m\"\u001b[39m\u001b[38;5;124ma\u001b[39m\u001b[38;5;124m\"\u001b[39m])\n\u001b[0;32m      4\u001b[0m \u001b[38;5;28mprint\u001b[39m(dict1[\u001b[38;5;124m\"\u001b[39m\u001b[38;5;124mb\u001b[39m\u001b[38;5;124m\"\u001b[39m])\n\u001b[1;32m----> 6\u001b[0m \u001b[38;5;28mprint\u001b[39m(dict1[\u001b[38;5;124m\"\u001b[39m\u001b[38;5;124mx\u001b[39m\u001b[38;5;124m\"\u001b[39m])\n",
      "\u001b[1;31mKeyError\u001b[0m: 'x'"
     ]
    }
   ],
   "source": [
    "dict1 = {\"a\":100,\"b\":200,\"c\":300}\n",
    "print(dict1)\n",
    "print(dict1[\"a\"])\n",
    "print(dict1[\"b\"])\n",
    "\n",
    "print(dict1[\"x\"])"
   ]
  },
  {
   "cell_type": "code",
   "execution_count": 94,
   "id": "dffdb50d",
   "metadata": {},
   "outputs": [
    {
     "name": "stdout",
     "output_type": "stream",
     "text": [
      "{'a': 100, 'b': 300}\n",
      "300\n"
     ]
    }
   ],
   "source": [
    "dict2 = {'a':100,'b':200,'b':300}#key重複取代\n",
    "print(dict2)\n",
    "print(dict2[\"b\"])"
   ]
  },
  {
   "cell_type": "markdown",
   "id": "d039b10f",
   "metadata": {},
   "source": [
    "## key 與 value\n",
    "+ key 不能於程式內改變：\n",
    "  + 可以用數字、字串或者 tuple。\n",
    "  + 不可以使用 list。\n",
    "+ 如何找出所有的 key 與 value？\n",
    "  + 您可以透過 dict1.keys( ) 這個方法找出所有的 key。\n",
    "  + 您可以透過 dict1.values( ) 這個方法找出所有的 value。"
   ]
  },
  {
   "cell_type": "code",
   "execution_count": 99,
   "id": "eadb902f",
   "metadata": {},
   "outputs": [
    {
     "name": "stdout",
     "output_type": "stream",
     "text": [
      "a 100\n",
      "b 200\n",
      "c 300\n",
      "a : 100\n",
      "b : 200\n",
      "c : 300\n",
      "100\n",
      "200\n",
      "300\n"
     ]
    }
   ],
   "source": [
    "dict1 = {\"a\":100,\"b\":200,\"c\":300}\n",
    "for k in dict1:\n",
    "    print(k,dict1[k])\n",
    "myKey  =  dict1.keys()\n",
    "for k in myKey:\n",
    "    print(k,\":\",dict1[k])\n",
    "for v in dict1.values():\n",
    "    print(v)"
   ]
  },
  {
   "cell_type": "markdown",
   "id": "894c14b8",
   "metadata": {},
   "source": [
    "## 新增與修改\n",
    "+ 新增一筆資料\n",
    "  + 請將 key 與 value 儲存至一個變數內。\n",
    "  + 透過 dict.update(新增的資料) 這個方法的方式就可以新增。\n",
    "+ 元素可否變更：\n",
    "  + 以 = 指派方式指派給 key 就可以變更資料"
   ]
  },
  {
   "cell_type": "markdown",
   "id": "316ea917",
   "metadata": {},
   "source": [
    "## update"
   ]
  },
  {
   "cell_type": "code",
   "execution_count": 105,
   "id": "b07ee7f8",
   "metadata": {},
   "outputs": [
    {
     "name": "stdout",
     "output_type": "stream",
     "text": [
      "{'Ken': 100, 'Vivin': 95, 'Lucy': 72}\n",
      "{'Ken': 100, 'Vivin': 95, 'Lucy': 89}\n",
      "{'Ken': 100, 'Vivin': 95, 'Lucy': 89, 'Ben': 75}\n",
      "{'Ken': 100, 'Vivin': 95, 'Lucy': 89, 'Ben': 75, 'Gigi': 76}\n",
      "{'Ken': 100, 'Vivin': 81, 'Lucy': 89, 'Ben': 75, 'Gigi': 76}\n",
      "{'Ken': 63, 'Vivin': 81, 'Lucy': 89, 'Ben': 75, 'Gigi': 76, 'Iris': 89, 'Howard': 71}\n"
     ]
    }
   ],
   "source": [
    "dict2 = {\"Ken\":100,\"Vivin\":95,\"Lucy\":72}\n",
    "print(dict2)\n",
    "dict2.update({\"Lucy\":89})#key存在修改\n",
    "print(dict2)\n",
    "dict2.update({\"Ben\":75})#key不存在新增\n",
    "print(dict2)\n",
    "\n",
    "dict2[\"Gigi\"] = 76#key不存在新增\n",
    "print(dict2)\n",
    "dict2[\"Vivin\"] = 81#key存在修改\n",
    "print(dict2)\n",
    "dict2.update({\"Iris\":89,\"Howard\":71,\"Ken\":63})#key存在修改\n",
    "print(dict2)\n"
   ]
  },
  {
   "cell_type": "markdown",
   "id": "e126b0b8",
   "metadata": {},
   "source": [
    "## del \n",
    "\n",
    "del dict[key]    刪除某一個 key 的資料\n",
    "\n",
    "dict.clear( )     清除所有項目\n",
    "\n",
    "del dict           刪除字典\n"
   ]
  },
  {
   "cell_type": "code",
   "execution_count": 108,
   "id": "794c61fe",
   "metadata": {},
   "outputs": [
    {
     "name": "stdout",
     "output_type": "stream",
     "text": [
      "{'Ken': 100, 'Vivin': 95, 'Lucy': 72}\n",
      "{'Ken': 100, 'Lucy': 72}\n"
     ]
    },
    {
     "ename": "KeyError",
     "evalue": "'Vivin'",
     "output_type": "error",
     "traceback": [
      "\u001b[1;31m---------------------------------------------------------------------------\u001b[0m",
      "\u001b[1;31mKeyError\u001b[0m                                  Traceback (most recent call last)",
      "Cell \u001b[1;32mIn[108], line 5\u001b[0m\n\u001b[0;32m      3\u001b[0m \u001b[38;5;28;01mdel\u001b[39;00m dict3[\u001b[38;5;124m\"\u001b[39m\u001b[38;5;124mVivin\u001b[39m\u001b[38;5;124m\"\u001b[39m]\n\u001b[0;32m      4\u001b[0m \u001b[38;5;28mprint\u001b[39m(dict3)\n\u001b[1;32m----> 5\u001b[0m \u001b[38;5;28;01mdel\u001b[39;00m dict3[\u001b[38;5;124m\"\u001b[39m\u001b[38;5;124mVivin\u001b[39m\u001b[38;5;124m\"\u001b[39m]\n",
      "\u001b[1;31mKeyError\u001b[0m: 'Vivin'"
     ]
    }
   ],
   "source": [
    "dict3 = {\"Ken\":100,\"Vivin\":95,\"Lucy\":72}\n",
    "print(dict3)\n",
    "del dict3[\"Vivin\"]\n",
    "print(dict3)\n",
    "del dict3[\"Vivin\"]#KeyError "
   ]
  },
  {
   "cell_type": "code",
   "execution_count": 110,
   "id": "d2195fc7",
   "metadata": {},
   "outputs": [
    {
     "name": "stdout",
     "output_type": "stream",
     "text": [
      "刪除\n",
      "{'Ken': 100, 'Lucy': 72}\n"
     ]
    }
   ],
   "source": [
    "dict3 = {\"Ken\":100,\"Vivin\":95,\"Lucy\":72}\n",
    "delKey = \"Vivin\"\n",
    "if delKey in dict3:\n",
    "    del dict3[delKey]\n",
    "    print(\"刪除\")\n",
    "else:\n",
    "    print(\"無法刪除\")\n",
    "print(dict3)    "
   ]
  },
  {
   "cell_type": "markdown",
   "id": "6a21445c",
   "metadata": {},
   "source": [
    "## 自訂函數的運用\n",
    "\n",
    "#### 程式設計時儘量減少相同語法的重複出現，為什麼?\n",
    "\n",
    "修改時可能忘記其他地方沒有改，導致程式執行出現錯誤結果。\n",
    "\n",
    "減少重複語法對於之後的維修會比較方便。\n",
    "\n",
    "\n",
    "#### 要如何減少重複的相同語法?\n",
    "\n",
    "把重複的相同語法當作工具看待，需要的時候呼叫他。\n",
    "\n",
    "這種工具於程式語法內叫做函數(function)。\n"
   ]
  },
  {
   "cell_type": "code",
   "execution_count": 126,
   "id": "e70d3491",
   "metadata": {},
   "outputs": [
    {
     "name": "stdout",
     "output_type": "stream",
     "text": [
      "10+20 = 30\n"
     ]
    }
   ],
   "source": [
    "a1 = 10\n",
    "a2 = 20\n",
    "print(f\"{a1}+{a2} = {a1 + a2}\")\n"
   ]
  },
  {
   "cell_type": "code",
   "execution_count": 120,
   "id": "b00233f3",
   "metadata": {},
   "outputs": [
    {
     "name": "stdout",
     "output_type": "stream",
     "text": [
      "呼叫函式\n",
      "呼叫函式\n"
     ]
    }
   ],
   "source": [
    "def funcPrint():\n",
    "    print(\"呼叫函式\")\n",
    "funcPrint() \n",
    "funcPrint()   "
   ]
  },
  {
   "cell_type": "markdown",
   "id": "d999fcae",
   "metadata": {},
   "source": [
    "### 自訂函數接收資料：\n",
    "\n",
    "傳入函數的參數放在 ( ) 內。\n",
    "\n",
    "可以接收多個，以逗點隔開。\n",
    "\n",
    "接收參數可以是變數，也可以是 list。\n",
    "\n",
    "函數若設定接收參數，呼叫函數時一定要給參數。\n",
    "\n",
    "接收參數可設定為不固定數量。\n",
    "\n",
    "若不接收則為空白。"
   ]
  },
  {
   "cell_type": "code",
   "execution_count": 128,
   "id": "db073323",
   "metadata": {},
   "outputs": [
    {
     "name": "stdout",
     "output_type": "stream",
     "text": [
      "10+20 = 30\n",
      "8+9 = 17\n"
     ]
    }
   ],
   "source": [
    "def func_sum(a,b):\n",
    "    print(f\"{a}+{b} = {a + b}\")\n",
    "func_sum(10,20)\n",
    "func_sum(8,9)"
   ]
  },
  {
   "cell_type": "code",
   "execution_count": 145,
   "id": "e97ed381",
   "metadata": {},
   "outputs": [
    {
     "name": "stdout",
     "output_type": "stream",
     "text": [
      "4\n",
      "x=1 y=1\n",
      "x=2 y=4\n",
      "x=3 y=9\n",
      "x=4 y=16\n",
      "x=5 y=25\n",
      "x=6 y=36\n",
      "x=7 y=49\n",
      "x=8 y=64\n",
      "x=9 y=81\n"
     ]
    }
   ],
   "source": [
    "def funcX(x):\n",
    "    ans = x ** 2\n",
    "    return ans\n",
    "print(funcX(2))\n",
    "for i in range(1,10):\n",
    "    y = funcX(i)\n",
    "    print(f\"x={i} y={y}\")"
   ]
  },
  {
   "cell_type": "code",
   "execution_count": 150,
   "id": "db7be675",
   "metadata": {},
   "outputs": [
    {
     "name": "stdout",
     "output_type": "stream",
     "text": [
      "(3, 5, 7)\n",
      "3 5 7\n"
     ]
    }
   ],
   "source": [
    "def func3(v1,v2,v3):\n",
    "    a1 = v1 + 2\n",
    "    a2 = v2 + 3\n",
    "    a3 = v3 + 4\n",
    "    return a1,a2,a3\n",
    "t = func3(1,2,3)\n",
    "print(t)\n",
    "x,y,z = t\n",
    "print(x,y,z)"
   ]
  },
  {
   "cell_type": "code",
   "execution_count": 155,
   "id": "e092048c",
   "metadata": {},
   "outputs": [
    {
     "name": "stdout",
     "output_type": "stream",
     "text": [
      "1 2 3\n",
      "20 15 [35]\n",
      "18 [21, 39]\n"
     ]
    }
   ],
   "source": [
    "def testValue(a,b):\n",
    "    c = a + b\n",
    "    return a,b,c\n",
    "x,y,z =  testValue(1,2)\n",
    "print(x,y,z)\n",
    "x,y,*_ = testValue(20,15)\n",
    "print(x,y,_)\n",
    "x,*_ = testValue(18,21)\n",
    "print(x,_)"
   ]
  },
  {
   "cell_type": "code",
   "execution_count": null,
   "id": "3d124167",
   "metadata": {},
   "outputs": [],
   "source": []
  }
 ],
 "metadata": {
  "kernelspec": {
   "display_name": "Python 3 (ipykernel)",
   "language": "python",
   "name": "python3"
  },
  "language_info": {
   "codemirror_mode": {
    "name": "ipython",
    "version": 3
   },
   "file_extension": ".py",
   "mimetype": "text/x-python",
   "name": "python",
   "nbconvert_exporter": "python",
   "pygments_lexer": "ipython3",
   "version": "3.11.4"
  }
 },
 "nbformat": 4,
 "nbformat_minor": 5
}
